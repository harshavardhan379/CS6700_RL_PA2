{
  "cells": [
    {
      "cell_type": "markdown",
      "source": [
        "Dueling DQN Acrobot Environment\n",
        "ME20B083\n",
        "ME20B138"
      ],
      "metadata": {
        "id": "NM_nnPDX7Kj_"
      }
    },
    {
      "cell_type": "code",
      "execution_count": null,
      "metadata": {
        "colab": {
          "base_uri": "https://localhost:8080/"
        },
        "id": "azUjb7UK4Yfh",
        "outputId": "5cd30272-7841-4408-da92-48f0441d6b69"
      },
      "outputs": [
        {
          "output_type": "stream",
          "name": "stdout",
          "text": [
            "Requirement already satisfied: setuptools in /usr/local/lib/python3.10/dist-packages (69.2.0)\n",
            "Requirement already satisfied: gym[classic_control] in /usr/local/lib/python3.10/dist-packages (0.25.2)\n",
            "Requirement already satisfied: numpy>=1.18.0 in /usr/local/lib/python3.10/dist-packages (from gym[classic_control]) (1.25.2)\n",
            "Requirement already satisfied: cloudpickle>=1.2.0 in /usr/local/lib/python3.10/dist-packages (from gym[classic_control]) (2.2.1)\n",
            "Requirement already satisfied: gym-notices>=0.0.4 in /usr/local/lib/python3.10/dist-packages (from gym[classic_control]) (0.0.8)\n",
            "Collecting pygame==2.1.0 (from gym[classic_control])\n",
            "  Downloading pygame-2.1.0-cp310-cp310-manylinux_2_17_x86_64.manylinux2014_x86_64.whl (18.3 MB)\n",
            "\u001b[2K     \u001b[90m━━━━━━━━━━━━━━━━━━━━━━━━━━━━━━━━━━━━━━━━\u001b[0m \u001b[32m18.3/18.3 MB\u001b[0m \u001b[31m26.3 MB/s\u001b[0m eta \u001b[36m0:00:00\u001b[0m\n",
            "\u001b[?25hInstalling collected packages: pygame\n",
            "  Attempting uninstall: pygame\n",
            "    Found existing installation: pygame 2.5.2\n",
            "    Uninstalling pygame-2.5.2:\n",
            "      Successfully uninstalled pygame-2.5.2\n",
            "Successfully installed pygame-2.1.0\n"
          ]
        }
      ],
      "source": [
        "'''\n",
        "Installing packages for rendering the game on Colab\n",
        "'''\n",
        "\n",
        "!pip install gym pyvirtualdisplay > /dev/null 2>&1\n",
        "!apt-get install -y xvfb python-opengl ffmpeg > /dev/null 2>&1\n",
        "!apt-get update > /dev/null 2>&1\n",
        "!apt-get install cmake > /dev/null 2>&1\n",
        "!pip install --upgrade setuptools 2>&1\n",
        "!pip install ez_setup > /dev/null 2>&1\n",
        "!pip install gym[atari] > /dev/null 2>&1\n",
        "!pip install git+https://github.com/tensorflow/docs > /dev/null 2>&1\n",
        "!pip install gym[classic_control]"
      ]
    },
    {
      "cell_type": "code",
      "execution_count": null,
      "metadata": {
        "id": "P_DODRgW_ZKS"
      },
      "outputs": [],
      "source": [
        "'''\n",
        "A bunch of imports, you don't have to worry about these\n",
        "'''\n",
        "\n",
        "import numpy as np\n",
        "import random\n",
        "import torch\n",
        "import torch.nn as nn\n",
        "import torch.nn.functional as F\n",
        "from collections import namedtuple, deque\n",
        "import torch.optim as optim\n",
        "import datetime\n",
        "import gym\n",
        "from gym.wrappers.record_video import RecordVideo\n",
        "import glob\n",
        "import io\n",
        "import base64\n",
        "import matplotlib.pyplot as plt\n",
        "from IPython.display import HTML\n",
        "from pyvirtualdisplay import Display\n",
        "import tensorflow as tf\n",
        "from IPython import display as ipythondisplay\n",
        "from PIL import Image\n",
        "import tensorflow_probability as tfp\n",
        "from scipy.special import softmax"
      ]
    },
    {
      "cell_type": "code",
      "execution_count": null,
      "metadata": {
        "colab": {
          "base_uri": "https://localhost:8080/"
        },
        "id": "fYNA5kiH_esJ",
        "outputId": "95307e0c-fb88-4fba-e8e2-bf456c89d8d5"
      },
      "outputs": [
        {
          "output_type": "stream",
          "name": "stdout",
          "text": [
            "State shape: 6\n",
            "Number of actions: 3\n",
            "Sampled action: 1\n",
            "----\n",
            "Initial state: [ 0.99962485  0.02738891  0.9989402  -0.04602639 -0.09180529 -0.09669447]\n",
            "----\n",
            "Random action: 2\n",
            "----\n",
            "New state: [ 0.99996984 -0.0077642   0.9997182  -0.02373883 -0.25169677  0.31000718]\n",
            "Reward: -1.0\n",
            "Episode done? False\n",
            "Additional info: {}\n",
            "----\n"
          ]
        },
        {
          "output_type": "stream",
          "name": "stderr",
          "text": [
            "/usr/local/lib/python3.10/dist-packages/gym/core.py:317: DeprecationWarning: \u001b[33mWARN: Initializing wrapper in old step API which returns one bool instead of two. It is recommended to set `new_step_api=True` to use new step API. This will be the default behaviour in future.\u001b[0m\n",
            "  deprecation(\n",
            "/usr/local/lib/python3.10/dist-packages/gym/wrappers/step_api_compatibility.py:39: DeprecationWarning: \u001b[33mWARN: Initializing environment in old step API which returns one bool instead of two. It is recommended to set `new_step_api=True` to use new step API. This will be the default behaviour in future.\u001b[0m\n",
            "  deprecation(\n",
            "/usr/local/lib/python3.10/dist-packages/gym/core.py:256: DeprecationWarning: \u001b[33mWARN: Function `env.seed(seed)` is marked as deprecated and will be removed in the future. Please use `env.reset(seed=seed)` instead.\u001b[0m\n",
            "  deprecation(\n",
            "/usr/local/lib/python3.10/dist-packages/gym/utils/passive_env_checker.py:241: DeprecationWarning: `np.bool8` is a deprecated alias for `np.bool_`.  (Deprecated NumPy 1.24)\n",
            "  if not isinstance(terminated, (bool, np.bool8)):\n"
          ]
        }
      ],
      "source": [
        "import gym\n",
        "env = gym.make('Acrobot-v1')\n",
        "env.seed(0)\n",
        "state_shape = env.observation_space.shape[0]\n",
        "no_of_actions = env.action_space.n\n",
        "print(\"State shape:\", state_shape)\n",
        "print(\"Number of actions:\", no_of_actions)\n",
        "print(\"Sampled action:\", env.action_space.sample())\n",
        "print(\"----\")\n",
        "state = env.reset()\n",
        "print(\"Initial state:\", state)\n",
        "print(\"----\")\n",
        "# Sample a random action\n",
        "action = env.action_space.sample()\n",
        "print(\"Random action:\", action)\n",
        "print(\"----\")\n",
        "# Take the sampled action in the environment\n",
        "next_state, reward, done, info = env.step(action)\n",
        "print(\"New state:\", next_state)\n",
        "print(\"Reward:\", reward)\n",
        "print(\"Episode done?\", done)\n",
        "print(\"Additional info:\", info)\n",
        "print(\"----\")\n"
      ]
    },
    {
      "cell_type": "code",
      "execution_count": null,
      "metadata": {
        "id": "g4MRC1p2DZbp",
        "colab": {
          "base_uri": "https://localhost:8080/"
        },
        "outputId": "3dc45d38-a022-4c07-d882-19baf5feae0d"
      },
      "outputs": [
        {
          "output_type": "stream",
          "name": "stderr",
          "text": [
            "/usr/local/lib/python3.10/dist-packages/ipykernel/ipkernel.py:283: DeprecationWarning: `should_run_async` will not call `transform_cell` automatically in the future. Please pass the result to `transformed_cell` argument and any exception that happen during thetransform in `preprocessing_exc_tuple` in IPython 7.17 and above.\n",
            "  and should_run_async(code)\n"
          ]
        }
      ],
      "source": [
        "\n",
        "import torch\n",
        "import torch.nn as nn\n",
        "import torch.nn.functional as F\n",
        "\n",
        "BUFFER_SIZE = int(1e5)  # replay buffer size\n",
        "BATCH_SIZE = 64         # minibatch size\n",
        "GAMMA = 0.99            # discount factor\n",
        "LR = 1e-4               # learning rate\n",
        "UPDATE_EVERY = 30       # how often to update the network (When Q target is present)\n",
        "\n",
        "\n",
        "class DuelingQNetwork(nn.Module):\n",
        "    def __init__(self, state_size, action_size, seed, fc1_units=128, fc2_units=128):\n",
        "        super(DuelingQNetwork, self).__init__()\n",
        "        self.seed = torch.manual_seed(seed)\n",
        "        self.fc1_value = nn.Linear(state_size, fc1_units)\n",
        "        self.fc2_value = nn.Linear(fc1_units, fc2_units)\n",
        "        self.fc3_value = nn.Linear(fc2_units, 1)  # Output layer for value stream\n",
        "\n",
        "        self.fc1_advantage = nn.Linear(state_size, fc1_units)\n",
        "        self.fc2_advantage = nn.Linear(fc1_units, fc2_units)\n",
        "        self.fc3_advantage = nn.Linear(fc2_units, action_size)  # Output layer for advantage stream\n",
        "\n",
        "    def forward(self, state):\n",
        "        x_value = F.relu(self.fc1_value(state))\n",
        "        x_value = F.relu(self.fc2_value(x_value))\n",
        "        value = self.fc3_value(x_value)\n",
        "\n",
        "        x_advantage = F.relu(self.fc1_advantage(state))\n",
        "        x_advantage = F.relu(self.fc2_advantage(x_advantage))\n",
        "        advantage = self.fc3_advantage(x_advantage)\n",
        "\n",
        "        # Combine value and advantage streams to get Q-values using Dueling DQN formula\n",
        "        q_values = value + (advantage - advantage.mean(dim=1, keepdim=True))\n",
        "\n",
        "        return q_values\n"
      ]
    },
    {
      "cell_type": "code",
      "execution_count": null,
      "metadata": {
        "id": "bh_oghc7Ledh"
      },
      "outputs": [],
      "source": [
        "import random\n",
        "import torch\n",
        "import numpy as np\n",
        "from collections import deque, namedtuple\n",
        "\n",
        "device = torch.device(\"cuda:0\" if torch.cuda.is_available() else \"cpu\")\n",
        "\n",
        "class ReplayBuffer:\n",
        "    \"\"\"Fixed-size buffer to store experience tuples.\"\"\"\n",
        "\n",
        "    def __init__(self, action_size, buffer_size, batch_size, seed):\n",
        "        \"\"\"Initialize a ReplayBuffer object.\n",
        "\n",
        "        Params\n",
        "        ======\n",
        "            action_size (int): dimension of each action\n",
        "            buffer_size (int): maximum size of buffer\n",
        "            batch_size (int): size of each training batch\n",
        "            seed (int): random seed\n",
        "        \"\"\"\n",
        "        self.action_size = action_size\n",
        "        self.memory = deque(maxlen=buffer_size)\n",
        "        self.batch_size = batch_size\n",
        "        self.experience = namedtuple(\"Experience\", field_names=[\"state\", \"action\", \"reward\", \"next_state\", \"done\"])\n",
        "        self.seed = random.seed(seed)\n",
        "\n",
        "    def add(self, state, action, reward, next_state, done):\n",
        "        \"\"\"Add a new experience to memory.\"\"\"\n",
        "        e = self.experience(state, action, reward, next_state, done)\n",
        "        self.memory.append(e)\n",
        "\n",
        "    def sample(self):\n",
        "        \"\"\"Randomly sample a batch of experiences from memory.\"\"\"\n",
        "        experiences = random.sample(self.memory, k=self.batch_size)\n",
        "\n",
        "        states = torch.from_numpy(np.vstack([e.state for e in experiences if e is not None])).float().to(device)\n",
        "        actions = torch.from_numpy(np.vstack([e.action for e in experiences if e is not None])).long().to(device)\n",
        "        rewards = torch.from_numpy(np.vstack([e.reward for e in experiences if e is not None])).float().to(device)\n",
        "        next_states = torch.from_numpy(np.vstack([e.next_state for e in experiences if e is not None])).float().to(device)\n",
        "        dones = torch.from_numpy(np.vstack([e.done for e in experiences if e is not None]).astype(np.uint8)).float().to(device)\n",
        "\n",
        "        return (states, actions, rewards, next_states, dones)\n",
        "\n",
        "    def __len__(self):\n",
        "        \"\"\"Return the current size of internal memory.\"\"\"\n",
        "        return len(self.memory)"
      ]
    },
    {
      "cell_type": "code",
      "execution_count": null,
      "metadata": {
        "id": "ok_5eQM7OCTj"
      },
      "outputs": [],
      "source": [
        "class DuelingTutorialAgent():\n",
        "    def __init__(self, state_size, action_size, seed):\n",
        "        self.state_size = state_size\n",
        "        self.action_size = action_size\n",
        "        self.seed = random.seed(seed)\n",
        "\n",
        "        self.qnetwork_local = DuelingQNetwork(state_size, action_size, seed).to(device)\n",
        "        self.qnetwork_target = DuelingQNetwork(state_size, action_size, seed).to(device)\n",
        "        self.optimizer = optim.Adam(self.qnetwork_local.parameters(), lr=LR)\n",
        "\n",
        "        self.memory = ReplayBuffer(action_size, BUFFER_SIZE, BATCH_SIZE, seed)\n",
        "        self.t_step = 0\n",
        "\n",
        "    def step(self, state, action, reward, next_state, done):\n",
        "\n",
        "        ''' Save experience in replay memory '''\n",
        "        self.memory.add(state, action, reward, next_state, done)\n",
        "\n",
        "        if len(self.memory) >= BATCH_SIZE:\n",
        "            experiences = self.memory.sample()\n",
        "            self.learn(experiences, GAMMA)\n",
        "\n",
        "        self.t_step = (self.t_step + 1) % UPDATE_EVERY\n",
        "        if self.t_step == 0:\n",
        "\n",
        "            self.qnetwork_target.load_state_dict(self.qnetwork_local.state_dict())\n",
        "\n",
        "    def act(self, state, eps=1.0):\n",
        "\n",
        "\n",
        "        state = torch.from_numpy(state).float().unsqueeze(0).to(device)\n",
        "        self.qnetwork_local.eval()\n",
        "        with torch.no_grad():\n",
        "            action_values = self.qnetwork_local(state)\n",
        "        self.qnetwork_local.train()\n",
        "\n",
        "        ''' Epsilon-greedy action selection (Already Present) '''\n",
        "        # if random.random() > eps:\n",
        "        #     return np.argmax(action_values.cpu().data.numpy())\n",
        "        # else:\n",
        "        #     return random.choice(np.arange(self.action_size))\n",
        "\n",
        "        probabilities = softmax(action_values.cpu().data.numpy().flatten()/eps)\n",
        "        return random.choices(population=range(len(probabilities)), weights=probabilities, k=1)[0]\n",
        "\n",
        "    def learn(self, experiences, gamma):\n",
        "        \"\"\" +E EXPERIENCE REPLAY PRESENT \"\"\"\n",
        "        states, actions, rewards, next_states, dones = experiences\n",
        "\n",
        "        ''' Get max predicted Q values (for next states) from target model'''\n",
        "        Q_targets_next = self.qnetwork_target(next_states).detach().max(1)[0].unsqueeze(1)\n",
        "\n",
        "        ''' Compute Q targets for current states '''\n",
        "        Q_targets = rewards + (gamma * Q_targets_next * (1 - dones))\n",
        "\n",
        "        ''' Get expected Q values from local model '''\n",
        "        Q_expected = self.qnetwork_local(states).gather(1, actions)\n",
        "\n",
        "        ''' Compute loss '''\n",
        "        loss = F.mse_loss(Q_expected, Q_targets)\n",
        "\n",
        "        ''' Minimize the loss '''\n",
        "        self.optimizer.zero_grad()\n",
        "        loss.backward()\n",
        "\n",
        "        ''' Gradiant Clipping '''\n",
        "        \"\"\" +T TRUNCATION PRESENT \"\"\"\n",
        "        for param in self.qnetwork_local.parameters():\n",
        "            param.grad.data.clamp_(-1, 1)\n",
        "\n",
        "        self.optimizer.step()"
      ]
    },
    {
      "cell_type": "code",
      "execution_count": null,
      "metadata": {
        "colab": {
          "base_uri": "https://localhost:8080/",
          "height": 35
        },
        "id": "r6A2TdUHWVUN",
        "outputId": "63cca18e-8d39-43aa-f56c-0d1e8450eabd"
      },
      "outputs": [
        {
          "output_type": "execute_result",
          "data": {
            "text/plain": [
              "' Trial run to check if algorithm runs and saves the data '"
            ],
            "application/vnd.google.colaboratory.intrinsic+json": {
              "type": "string"
            }
          },
          "metadata": {},
          "execution_count": 26
        }
      ],
      "source": [
        "\n",
        "state_shape = env.observation_space.shape[0]\n",
        "action_shape = env.action_space.n\n",
        "\n",
        "\n",
        "def ddqn(n_episodes=10000, max_t=1000, eps_start=1.0, eps_end=0.01, eps_decay=0.995):\n",
        "    all_scores = []\n",
        "    scores_window = deque(maxlen=100)\n",
        "\n",
        "    eps = eps_start\n",
        "\n",
        "    for i_episode in range(1, n_episodes+1):\n",
        "        state = env.reset()\n",
        "        score = 0\n",
        "        for t in range(max_t):\n",
        "            action = agent.act(state, eps)\n",
        "            next_state, reward, done, _ = env.step(action)\n",
        "            agent.step(state, action, reward, next_state, done)\n",
        "            state = next_state\n",
        "            score += reward\n",
        "            if done:\n",
        "                break\n",
        "\n",
        "        scores_window.append(score)\n",
        "        all_scores.append(score)\n",
        "\n",
        "        eps = max(eps_end, eps_decay*eps)\n",
        "\n",
        "\n",
        "        print('\\rEpisode {}\\tAverage Score: {:.2f}'.format(i_episode, np.mean(scores_window)), end=\"\")\n",
        "\n",
        "        if i_episode % 100 == 0:\n",
        "           print('\\rEpisode {}\\tAverage Score: {:.2f}'.format(i_episode, np.mean(scores_window)))\n",
        "        if np.mean(scores_window)>=-110.0:\n",
        "           print('\\nEnvironment solved in {:d} episodes!\\tAverage Score: {:.2f}'.format(i_episode, np.mean(scores_window)))\n",
        "           break\n",
        "    return all_scores\n",
        "\n"
      ]
    },
    {
      "cell_type": "code",
      "source": [
        "all_scores_type1 = []\n",
        "seeds = [10, 18, 36, 42, 85]\n",
        "for i in seeds:\n",
        "  begin_time = datetime.datetime.now()\n",
        "  env.reset()\n",
        "  env.seed(i)\n",
        "  agent = DuelingTutorialAgent(state_size=state_shape,action_size = action_shape,seed = i)\n",
        "  all_scores = ddqn()\n",
        "  all_scores_type1.append(all_scores)"
      ],
      "metadata": {
        "colab": {
          "base_uri": "https://localhost:8080/"
        },
        "id": "5egRIJ8_RExS",
        "outputId": "dc4fd6f5-ddda-4cd4-d938-f6d6e32131e6"
      },
      "execution_count": null,
      "outputs": [
        {
          "output_type": "stream",
          "name": "stderr",
          "text": [
            "/usr/local/lib/python3.10/dist-packages/ipykernel/ipkernel.py:283: DeprecationWarning: `should_run_async` will not call `transform_cell` automatically in the future. Please pass the result to `transformed_cell` argument and any exception that happen during thetransform in `preprocessing_exc_tuple` in IPython 7.17 and above.\n",
            "  and should_run_async(code)\n",
            "/usr/local/lib/python3.10/dist-packages/gym/core.py:256: DeprecationWarning: \u001b[33mWARN: Function `env.seed(seed)` is marked as deprecated and will be removed in the future. Please use `env.reset(seed=seed)` instead.\u001b[0m\n",
            "  deprecation(\n"
          ]
        },
        {
          "output_type": "stream",
          "name": "stdout",
          "text": [
            "Episode 100\tAverage Score: -165.43\n",
            "Episode 200\tAverage Score: -118.46\n",
            "Episode 253\tAverage Score: -108.52\n",
            "Environment solved in 253 episodes!\tAverage Score: -108.52\n",
            "Episode 100\tAverage Score: -154.71\n",
            "Episode 200\tAverage Score: -116.91\n",
            "Episode 241\tAverage Score: -109.97\n",
            "Environment solved in 241 episodes!\tAverage Score: -109.97\n",
            "Episode 100\tAverage Score: -161.62\n",
            "Episode 200\tAverage Score: -117.48\n",
            "Episode 245\tAverage Score: -109.58\n",
            "Environment solved in 245 episodes!\tAverage Score: -109.58\n",
            "Episode 100\tAverage Score: -255.95\n",
            "Episode 200\tAverage Score: -139.77\n",
            "Episode 299\tAverage Score: -109.93\n",
            "Environment solved in 299 episodes!\tAverage Score: -109.93\n",
            "Episode 100\tAverage Score: -186.97\n",
            "Episode 200\tAverage Score: -114.03\n",
            "Episode 300\tAverage Score: -112.28\n",
            "Episode 313\tAverage Score: -109.99\n",
            "Environment solved in 313 episodes!\tAverage Score: -109.99\n"
          ]
        }
      ]
    },
    {
      "cell_type": "code",
      "source": [
        "BUFFER_SIZE = int(1e5)  # replay buffer size\n",
        "BATCH_SIZE = 64         # minibatch size\n",
        "GAMMA = 0.99            # discount factor\n",
        "LR = 1e-4               # learning rate\n",
        "UPDATE_EVERY = 10      # how often to update the network (When Q target is present)\n",
        "\n",
        "\n",
        "class DuelingQNetwork(nn.Module):\n",
        "    def __init__(self, state_size, action_size, seed, fc1_units=128, fc2_units=128):\n",
        "        super(DuelingQNetwork, self).__init__()\n",
        "        self.seed = torch.manual_seed(seed)\n",
        "        self.fc1_value = nn.Linear(state_size, fc1_units)\n",
        "        self.fc2_value = nn.Linear(fc1_units, fc2_units)\n",
        "        self.fc3_value = nn.Linear(fc2_units, 1)  # Output layer for value stream\n",
        "\n",
        "        self.fc1_advantage = nn.Linear(state_size, fc1_units)\n",
        "        self.fc2_advantage = nn.Linear(fc1_units, fc2_units)\n",
        "        self.fc3_advantage = nn.Linear(fc2_units, action_size)  # Output layer for advantage stream\n",
        "\n",
        "    def forward(self, state):\n",
        "      x_value = F.relu(self.fc1_value(state))\n",
        "      x_value = F.relu(self.fc2_value(x_value))\n",
        "      value = self.fc3_value(x_value)\n",
        "      x_advantage = F.relu(self.fc1_advantage(state))\n",
        "      x_advantage = F.relu(self.fc2_advantage(x_advantage))\n",
        "      advantage = self.fc3_advantage(x_advantage)\n",
        "\n",
        "      # Combine value and advantage streams to get Q-values using Dueling DQN Type-2 formula\n",
        "      q_values = value + (advantage - advantage.max(dim=1, keepdim=True)[0])\n",
        "\n",
        "      return q_values"
      ],
      "metadata": {
        "id": "wE0bvSiff7tz"
      },
      "execution_count": null,
      "outputs": []
    },
    {
      "cell_type": "code",
      "source": [
        "all_scores_type2 = []\n",
        "seeds = [10, 18, 36, 42, 85]\n",
        "for i in seeds:\n",
        "  begin_time = datetime.datetime.now()\n",
        "  env.reset()\n",
        "  env.seed(i)\n",
        "  agent = DuelingTutorialAgent(state_size=state_shape,action_size = action_shape,seed = i)\n",
        "  all_scores = ddqn()\n",
        "  all_scores_type2.append(all_scores)"
      ],
      "metadata": {
        "colab": {
          "base_uri": "https://localhost:8080/"
        },
        "id": "AbWBVYKgf7wU",
        "outputId": "49f29746-26d3-4a48-f7bf-8d727e15aec3"
      },
      "execution_count": null,
      "outputs": [
        {
          "output_type": "stream",
          "name": "stdout",
          "text": [
            "Episode 100\tAverage Score: -177.02\n",
            "Episode 200\tAverage Score: -114.57\n",
            "Episode 224\tAverage Score: -109.84\n",
            "Environment solved in 224 episodes!\tAverage Score: -109.84\n",
            "Episode 100\tAverage Score: -202.53\n",
            "Episode 200\tAverage Score: -113.71\n",
            "Episode 221\tAverage Score: -109.97\n",
            "Environment solved in 221 episodes!\tAverage Score: -109.97\n",
            "Episode 100\tAverage Score: -196.42\n",
            "Episode 200\tAverage Score: -115.31\n",
            "Episode 244\tAverage Score: -109.89\n",
            "Environment solved in 244 episodes!\tAverage Score: -109.89\n",
            "Episode 100\tAverage Score: -263.02\n",
            "Episode 200\tAverage Score: -121.60\n",
            "Episode 225\tAverage Score: -109.39\n",
            "Environment solved in 225 episodes!\tAverage Score: -109.39\n",
            "Episode 100\tAverage Score: -210.63\n",
            "Episode 200\tAverage Score: -123.55\n",
            "Episode 228\tAverage Score: -109.93\n",
            "Environment solved in 228 episodes!\tAverage Score: -109.93\n"
          ]
        }
      ]
    },
    {
      "cell_type": "code",
      "source": [
        "\n",
        "import statistics\n",
        "mean_list1 = []\n",
        "variance_list1 = []\n",
        "\n",
        "for i in range(max(len(lst) for lst in all_scores_type1)):\n",
        "    numbers = []\n",
        "    for lst in all_scores_type1:\n",
        "        if i < len(lst):\n",
        "            numbers.append(lst[i])\n",
        "    if len(numbers) > 1:  # Check if there are at least two elements\n",
        "        mean = sum(numbers) / len(numbers)\n",
        "        variance = statistics.variance(numbers)\n",
        "        mean_list1.append(mean)\n",
        "        variance_list1.append(variance)\n",
        "    elif len(numbers) == 1:  # If there's only one element, set variance to 0\n",
        "        mean_list1.append(numbers[0])\n",
        "        variance_list1.append(0)\n",
        "\n",
        "# Plotting\n",
        "x = range(len(mean_list1))\n",
        "plt.plot(x, mean_list1, label='Mean_type1')\n",
        "plt.fill_between(x, [m - v ** 0.5 for m, v in zip(mean_list1, variance_list1)],\n",
        "                 [m + v ** 0.5 for m, v in zip(mean_list1, variance_list1)],\n",
        "                 alpha=0.3, label='Variance_type1')\n",
        "\n",
        "\n",
        "\n",
        "\n",
        "\n",
        "mean_list2 = []\n",
        "variance_list2 = []\n",
        "\n",
        "for i in range(max(len(lst) for lst in all_scores_type2)):\n",
        "    numbers = []\n",
        "    for lst in all_scores_type2:\n",
        "        if i < len(lst):\n",
        "            numbers.append(lst[i])\n",
        "    if len(numbers) > 1:\n",
        "        mean = sum(numbers) / len(numbers)\n",
        "        variance = statistics.variance(numbers)\n",
        "        mean_list2.append(mean)\n",
        "        variance_list2.append(variance)\n",
        "    elif len(numbers) == 1:\n",
        "        mean_list2.append(numbers[0])\n",
        "        variance_list2.append(0)\n",
        "\n",
        "# Plotting\n",
        "x = range(len(mean_list2))\n",
        "plt.plot(x, mean_list2, label='Mean_type2')\n",
        "plt.fill_between(x, [m - v ** 0.5 for m, v in zip(mean_list2, variance_list2)],\n",
        "                 [m + v ** 0.5 for m, v in zip(mean_list2, variance_list2)],\n",
        "                 alpha=0.3, label='Variance_type2')\n",
        "plt.xlabel('Episodes')\n",
        "plt.ylabel('Reward Scores')\n",
        "plt.title('Mean and Variance Plot of Acrobot')\n",
        "plt.legend()\n",
        "plt.show()"
      ],
      "metadata": {
        "colab": {
          "base_uri": "https://localhost:8080/",
          "height": 472
        },
        "id": "PUFLOFElf7yf",
        "outputId": "b9af7a6d-193d-4371-9758-6f31a48321e1"
      },
      "execution_count": null,
      "outputs": [
        {
          "output_type": "display_data",
          "data": {
            "text/plain": [
              "<Figure size 640x480 with 1 Axes>"
            ],
            "image/png": "[encoded data removed]"
          },
          "metadata": {}
        }
      ]
    }
  ],
  "metadata": {
    "colab": {
      "provenance": []
    },
    "kernelspec": {
      "display_name": "Python 3",
      "name": "python3"
    },
    "language_info": {
      "codemirror_mode": {
        "name": "ipython",
        "version": 3
      },
      "file_extension": ".py",
      "mimetype": "text/x-python",
      "name": "python",
      "nbconvert_exporter": "python",
      "pygments_lexer": "ipython3",
      "version": "3.10.4"
    }
  },
  "nbformat": 4,
  "nbformat_minor": 0
}